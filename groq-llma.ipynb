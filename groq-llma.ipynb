{
 "cells": [
  {
   "cell_type": "code",
   "execution_count": 1,
   "id": "63cf3666-5f6e-4023-9781-1210b62f6e82",
   "metadata": {},
   "outputs": [],
   "source": [
    "from langchain_groq import ChatGroq\n"
   ]
  },
  {
   "cell_type": "code",
   "execution_count": 2,
   "id": "6755720d-2b9f-492b-9a35-71b37566069f",
   "metadata": {},
   "outputs": [
    {
     "name": "stdout",
     "output_type": "stream",
     "text": [
      "The first person to land on the moon was Neil Armstrong. He stepped onto the lunar surface on July 20, 1969, as part of the Apollo 11 mission.\n"
     ]
    }
   ],
   "source": [
    "llm = ChatGroq(\n",
    "    temperature=0, \n",
    "    groq_api_key='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', \n",
    "    model_name=\"llama-3.1-70b-versatile\"\n",
    ")\n",
    "response = llm.invoke(\"The first person to land on moon was ...\")\n",
    "print(response.content)"
   ]
  },
  {
   "cell_type": "code",
   "execution_count": 3,
   "id": "3d7db985-f16e-4b43-ab59-b24767911a96",
   "metadata": {},
   "outputs": [
    {
     "name": "stderr",
     "output_type": "stream",
     "text": [
      "USER_AGENT environment variable not set, consider setting it to identify your requests.\n"
     ]
    },
    {
     "name": "stdout",
     "output_type": "stream",
     "text": [
      "Apply for Senior Software Engineer\n",
      "\n",
      "Search JobsSkip navigationSearch JobsNIKE, INC. JOBSContract JobsJoin The Talent CommunityLife @ NikeOverviewBenefitsBrandsOverviewJordanConverseTeamsOverviewAdministrative SupportAdvanced InnovationAir Manufacturing InnovationAviationCommunicationsCustomer ServiceDesignDigitalFacilitiesFinance & AccountingGovernment & Public AffairsHuman ResourcesInsights & AnalyticsLegalManufacturing & EngineeringMarketingMerchandisingPlanningPrivacyProcurementProduct Creation, Development & ManagementRetail CorporateRetail StoresSalesSocial & Community ImpactSports MarketingStrategic PlanningSupply Chain, Distribution & LogisticsSustainabilityTechnologyLocationsOverviewNike WHQNike New York HQEHQ: Hilversum, The NetherlandsELC: Laakdal, BelgiumGreater China HQDiversity, Equity & InclusionOverviewMilitary InclusionDisability InclusionIndigenous InclusionInternshipsTechnologySenior Software EngineerBeaverton, OregonBecome a Part of the NIKE, Inc. TeamNIKE, Inc. does more than outfit the world’s best athletes. It is a place to explore potential, obliterate boundaries and push out the edges of what can be. The company looks for people who can grow, think, dream and create. Its culture thrives by embracing diversity and rewarding imagination. The brand seeks achievers, leaders and visionaries. At NIKE, Inc. it’s about each person bringing skills and passion to a challenging and constantly evolving game.NIKE is a technology company. From our flagship website and five-star mobile apps to developing products, managing big data and providing leading edge engineering and systems support, our teams at NIKE Global Technology exist to revolutionize the future at the confluence of tech and sport. We invest and develop advances in technology and employ the most creative people in the world, and then give them the support to constantly innovate, iterate and serve consumers more directly and personally.  Our teams are innovative, diverse, multidisciplinary and collaborative, taking technology into the future and bringing the world with it.Within the Nike Global Technology Team, the Cloud FinOps team develops products and provides services that enhance the understanding of cloud costs, drives cloud spend optimization, and maximizes the business value of the cloud.WHO WE ARE LOOKING FORWe’re looking for a senior-level Software Engineer with the skills to deliver and maintain product features for our internal cloud reporting solution. This valued team member will create backend automations to process and transform large amounts of cloud billing data across a multi-cloud ecosystem into usable reports and dashboards through API and UI interfaces. This engineer will actively partner with Product Management, colleagues in the Cloud Center of Excellence, and their Cloud FinOps teammates to prioritize backlogs and deliver maximum value and quality insights to over 1,500 internal customers.Our preferred candidate is a team-player with a passion for learning, problem solving, and taking on challenges. They will have strong skills in developing automation to simplify end-to-end processes and remove manual workflows. Attention to detail, above average verbal and written communication skills, and the ability to collaborate with fellow engineers are must-have characteristics.WHAT YOU WILL WORK ONYou will join a squad making a difference at Nike through the development, feature enhancement, and maintenance of enterprise-wide multi-cloud cost, usage, and metrics reporting products. You will participate in team/product planning sessions, share your ideas for our products and services, and help groom and prioritize our backlog.WHO YOU WILL WORK WITHYou will report to the Director of Cloud FinOps and join a small but mighty squad of developers at Nike World Headquarters in Beaverton, Oregon. You will partner with FinOps analysts, product managers, architects, Finance partners, and peer engineers to enhance the operational knowledge of customers from the C-Suite to front line engineers.As part of the Nike Global Technology Engineering Community, you will have the opportunity to participate in community sessions, engineering forums, and social networks within Nike that foster career growth. Developing knowledge of cloud cost reporting and optimization will further your career no matter what the future holds.WHAT YOU BRINGIn addition to the requirements described above, successful candidates will have the following:Bachelor’s degree in Computer Science or IT related discipline or any acceptable combination of relevant education, training, and experienceStrong abilities in Python (preferred) or similar object-oriented programming languagesIntermediate skills in JavaScript front end-web frameworks (e.g. Angular, React)Knowledge of data structures and algorithms for efficiently and effectively managing large data setsExperience using serverless data warehouses (e.g. Athena) and NoSQL databases (e.g. DynamoDB)Tangible experience creating, delivering, and documenting GraphQL and RESTful APIsCloud infrastructure development experience using public cloud providers, e.g., AWS (our preferred choice), Azure, GCPPractical understanding of infrastructure-as-code technologies (e.g., Terraform, CloudFormation, CircleCI), continuous integration & deployment (CI/CD), source control (e.g. GitHub), and build automation (e.g. Jenkins, GitHub Actions)Knowledge of Agile principles and Sprint Planning, including planning/backlog tools (e.g., JIRA)The following qualifications are preferred, but not required:Databricks experienceAbilities to create elegant user experiencesPractical experience in cloud cost optimization techniques and best practicesKnowledge of cloud provider billing practicesA basic understanding of FinOps practicesExperience with big room planning processes such as Scaled Agile Framework (SAFe)We are committed to fostering a diverse and inclusive environment for all employees and job applicants. We offer a number of accommodations to complete our interview process including screen readers, sign language interpreters, accessible and single location for in-person interviews, closed captioning, and other reasonable modifications as needed. If you discover, as you navigate our application process, that you need assistance or an accommodation due to a disability, please complete the Candidate Accommodation Request Form.NIKE, Inc. is a growth company that looks for team members to grow with it. Nike offers a generous total rewards package, casual work environment, a diverse and inclusive culture, and an electric atmosphere for professional development. No matter the location, or the role, every Nike employee shares one galvanizing mission: To bring inspiration and innovation to every athlete* in the world.NIKE, Inc. is committed to employing a diverse workforce. Qualified applicants will receive consideration without regard to race, color, religion, sex, national origin, age, sexual orientation, gender identity, gender expression, veteran status, or disability.How We HireAt NIKE, Inc. we promise to provide a premium, inclusive, compelling and authentic candidate experience. Delivering on this promise means we allow you to be at your best — and to do that, you need to understand how the hiring process works. Transparency is key.\n",
      "\n",
      "* This overview explains our hiring process for corporate roles. Note there may be different hiring steps involved for non-corporate roles.Start nowBenefitsWhether it’s transportation or financial health, we continually invest in our employees to help them achieve greatness — inside and outside of work. All who work here should be able to realize their full potential.Employee Assistance ProgramEmployee Stock Purchase Plan (ESPP)HolidaysMedical PlanPaid Time Off (PTO)Product DiscountsSabbaticalsLearn moreFIND A STOREBECOME A MEMBERSIGN UP FOR EMAILSEND US FEEDBACKSTUDENT DISCOUNTSGET HELPGET HELPOrder StatusDeliveryReturnsPayment OptionsContact Us On Nike.com InquiriesContact Us On All Other InquiriesABOUT NIKEABOUT NIKENewsCareersInvestorsSustainabilityIndia© 2024 Nike, Inc. All Rights ReservedGuidesNike AdaptNike Air MaxNike FlyleatherNike PegasusNike Zoom FlyNike AirNike FlyEaseNike FreeNike ReactNike ZoomXNike Air Force 1Nike FlyknitNike JoyrideNike VaporflyTerms of SaleTerms of UseNike Privacy Policy\n"
     ]
    }
   ],
   "source": [
    "from langchain_community.document_loaders import WebBaseLoader\n",
    "\n",
    "loader = WebBaseLoader(\"https://jobs.nike.com/job/R-39013?from=job%20search%20funnel\")\n",
    "page_data = loader.load().pop().page_content\n",
    "print(page_data)"
   ]
  },
  {
   "cell_type": "code",
   "execution_count": 4,
   "id": "e792d6bf-b902-4ed1-bc43-e37c1850802a",
   "metadata": {},
   "outputs": [
    {
     "data": {
      "text/plain": [
       "str"
      ]
     },
     "execution_count": 4,
     "metadata": {},
     "output_type": "execute_result"
    }
   ],
   "source": [
    "from langchain_core.prompts import PromptTemplate\n",
    "\n",
    "prompt_extract = PromptTemplate.from_template(\n",
    "        \"\"\"\n",
    "        ### SCRAPED TEXT FROM WEBSITE:\n",
    "        {page_data}\n",
    "        ### INSTRUCTION:\n",
    "        The scraped text is from the career's page of a website.\n",
    "        Your job is to extract the job postings and return them in JSON format containing the \n",
    "        following keys: `role`, `experience`, `skills` and `description`.\n",
    "        Only return the valid JSON.\n",
    "        ### VALID JSON (NO PREAMBLE):    \n",
    "        \"\"\"\n",
    ")\n",
    "\n",
    "chain_extract = prompt_extract | llm \n",
    "res = chain_extract.invoke(input={'page_data':page_data})\n",
    "type(res.content)"
   ]
  },
  {
   "cell_type": "code",
   "execution_count": 5,
   "id": "8bf0112d-6cb6-4b9a-ad18-c44a260335b5",
   "metadata": {},
   "outputs": [
    {
     "data": {
      "text/plain": [
       "{'role': 'Senior Software Engineer',\n",
       " 'experience': 'Senior-level',\n",
       " 'skills': ['Python (preferred) or similar object-oriented programming languages',\n",
       "  'JavaScript front end-web frameworks (e.g. Angular, React)',\n",
       "  'Data structures and algorithms for efficiently and effectively managing large data sets',\n",
       "  'Serverless data warehouses (e.g. Athena) and NoSQL databases (e.g. DynamoDB)',\n",
       "  'GraphQL and RESTful APIs',\n",
       "  'Cloud infrastructure development using public cloud providers (e.g., AWS, Azure, GCP)',\n",
       "  'Infrastructure-as-code technologies (e.g., Terraform, CloudFormation, CircleCI)',\n",
       "  'Continuous integration & deployment (CI/CD), source control (e.g. GitHub), and build automation (e.g. Jenkins, GitHub Actions)',\n",
       "  'Agile principles and Sprint Planning, including planning/backlog tools (e.g., JIRA)'],\n",
       " 'description': 'We’re looking for a senior-level Software Engineer with the skills to deliver and maintain product features for our internal cloud reporting solution. This valued team member will create backend automations to process and transform large amounts of cloud billing data across a multi-cloud ecosystem into usable reports and dashboards through API and UI interfaces.'}"
      ]
     },
     "execution_count": 5,
     "metadata": {},
     "output_type": "execute_result"
    }
   ],
   "source": [
    "from langchain_core.output_parsers import JsonOutputParser\n",
    "\n",
    "json_parser = JsonOutputParser()\n",
    "json_res = json_parser.parse(res.content)\n",
    "json_res"
   ]
  },
  {
   "cell_type": "code",
   "execution_count": 6,
   "id": "1ef239b8-9d9c-47a6-832c-16a29349d1bc",
   "metadata": {},
   "outputs": [
    {
     "data": {
      "text/plain": [
       "dict"
      ]
     },
     "execution_count": 6,
     "metadata": {},
     "output_type": "execute_result"
    }
   ],
   "source": [
    "type(json_res)"
   ]
  },
  {
   "cell_type": "code",
   "execution_count": 7,
   "id": "05d65b22-2bc6-4a17-848a-35969ff8506f",
   "metadata": {},
   "outputs": [
    {
     "data": {
      "text/html": [
       "<div>\n",
       "<style scoped>\n",
       "    .dataframe tbody tr th:only-of-type {\n",
       "        vertical-align: middle;\n",
       "    }\n",
       "\n",
       "    .dataframe tbody tr th {\n",
       "        vertical-align: top;\n",
       "    }\n",
       "\n",
       "    .dataframe thead th {\n",
       "        text-align: right;\n",
       "    }\n",
       "</style>\n",
       "<table border=\"1\" class=\"dataframe\">\n",
       "  <thead>\n",
       "    <tr style=\"text-align: right;\">\n",
       "      <th></th>\n",
       "      <th>Techstack</th>\n",
       "      <th>Links</th>\n",
       "    </tr>\n",
       "  </thead>\n",
       "  <tbody>\n",
       "    <tr>\n",
       "      <th>0</th>\n",
       "      <td>Flutter, Firebase, Dart</td>\n",
       "      <td>https://play.google.com/store/apps/details?id=...</td>\n",
       "    </tr>\n",
       "    <tr>\n",
       "      <th>1</th>\n",
       "      <td>Flutter, Firebase, Dart</td>\n",
       "      <td>https://github.com/qusaii21/Ganga-Prabodhanam-App</td>\n",
       "    </tr>\n",
       "    <tr>\n",
       "      <th>2</th>\n",
       "      <td>Machine Learning, Python, TensorFlow</td>\n",
       "      <td>https://github.com/qusaii21/Ganga-Prabodhanam-App</td>\n",
       "    </tr>\n",
       "    <tr>\n",
       "      <th>3</th>\n",
       "      <td>Machine Learning, GANs, Python</td>\n",
       "      <td>https://github.com/qusaii21/Synthetic-Data-Gen...</td>\n",
       "    </tr>\n",
       "    <tr>\n",
       "      <th>4</th>\n",
       "      <td>React Native, MongoDB, Express.js, Node.js, Ja...</td>\n",
       "      <td>https://github.com/qusaii21/Quick-Sewa-On-Dema...</td>\n",
       "    </tr>\n",
       "    <tr>\n",
       "      <th>5</th>\n",
       "      <td>Machine Learning, Python</td>\n",
       "      <td>https://github.com/qusaii21/RouteMate-Optimize...</td>\n",
       "    </tr>\n",
       "    <tr>\n",
       "      <th>6</th>\n",
       "      <td>Flutter, Dart, Data Structures</td>\n",
       "      <td>https://github.com/qusaii21/minimum-cost-of-ti...</td>\n",
       "    </tr>\n",
       "    <tr>\n",
       "      <th>7</th>\n",
       "      <td>Machine Learning, Python, Streamlit, firebase</td>\n",
       "      <td>https://github.com/qusaii21/ANPR-System-for-Ap...</td>\n",
       "    </tr>\n",
       "    <tr>\n",
       "      <th>8</th>\n",
       "      <td>Flutter, Dart, Flame</td>\n",
       "      <td>https://github.com/qusaii21/Tilt-n-Score-game</td>\n",
       "    </tr>\n",
       "  </tbody>\n",
       "</table>\n",
       "</div>"
      ],
      "text/plain": [
       "                                           Techstack  \\\n",
       "0                            Flutter, Firebase, Dart   \n",
       "1                            Flutter, Firebase, Dart   \n",
       "2               Machine Learning, Python, TensorFlow   \n",
       "3                     Machine Learning, GANs, Python   \n",
       "4  React Native, MongoDB, Express.js, Node.js, Ja...   \n",
       "5                           Machine Learning, Python   \n",
       "6                     Flutter, Dart, Data Structures   \n",
       "7      Machine Learning, Python, Streamlit, firebase   \n",
       "8                               Flutter, Dart, Flame   \n",
       "\n",
       "                                               Links  \n",
       "0  https://play.google.com/store/apps/details?id=...  \n",
       "1  https://github.com/qusaii21/Ganga-Prabodhanam-App  \n",
       "2  https://github.com/qusaii21/Ganga-Prabodhanam-App  \n",
       "3  https://github.com/qusaii21/Synthetic-Data-Gen...  \n",
       "4  https://github.com/qusaii21/Quick-Sewa-On-Dema...  \n",
       "5  https://github.com/qusaii21/RouteMate-Optimize...  \n",
       "6  https://github.com/qusaii21/minimum-cost-of-ti...  \n",
       "7  https://github.com/qusaii21/ANPR-System-for-Ap...  \n",
       "8      https://github.com/qusaii21/Tilt-n-Score-game  "
      ]
     },
     "execution_count": 7,
     "metadata": {},
     "output_type": "execute_result"
    }
   ],
   "source": [
    "import pandas as pd\n",
    "\n",
    "df = pd.read_csv(\"portfolio.csv\")\n",
    "df"
   ]
  },
  {
   "cell_type": "code",
   "execution_count": 8,
   "id": "684ed014-692a-4c0a-88d9-0f2d440baec1",
   "metadata": {},
   "outputs": [],
   "source": [
    "import uuid\n",
    "import chromadb\n",
    "\n",
    "client = chromadb.PersistentClient('vectorstore')\n",
    "collection = client.get_or_create_collection(name=\"portfolio\")\n",
    "\n",
    "if not collection.count():\n",
    "    for _, row in df.iterrows():\n",
    "        collection.add(documents=row[\"Techstack\"],\n",
    "                       metadatas={\"links\": row[\"Links\"]},\n",
    "                       ids=[str(uuid.uuid4())])"
   ]
  },
  {
   "cell_type": "code",
   "execution_count": 10,
   "id": "5fcc141a-398b-473e-80b5-ed3f190db6ae",
   "metadata": {},
   "outputs": [
    {
     "data": {
      "text/plain": [
       "[[{'links': 'https://play.google.com/store/apps/details?id=com.ieeeofficialapp.ieee_official_app'},\n",
       "  {'links': 'https://github.com/qusaii21/Ganga-Prabodhanam-App'}],\n",
       " [{'links': 'https://github.com/qusaii21/RouteMate-Optimized-Employee-Transportation-Routing'},\n",
       "  {'links': 'https://github.com/qusaii21/Ganga-Prabodhanam-App'}]]"
      ]
     },
     "execution_count": 10,
     "metadata": {},
     "output_type": "execute_result"
    }
   ],
   "source": [
    "links = collection.query(query_texts=[\"Experience in flutter\",\"Experience in python\"], n_results=2).get('metadatas', [])\n",
    "links\n"
   ]
  },
  {
   "cell_type": "code",
   "execution_count": 11,
   "id": "75cfdfbe-0f9f-4379-8584-60eb5b615767",
   "metadata": {},
   "outputs": [
    {
     "data": {
      "text/plain": [
       "['Python (preferred) or similar object-oriented programming languages',\n",
       " 'JavaScript front end-web frameworks (e.g. Angular, React)',\n",
       " 'Data structures and algorithms for efficiently and effectively managing large data sets',\n",
       " 'Serverless data warehouses (e.g. Athena) and NoSQL databases (e.g. DynamoDB)',\n",
       " 'GraphQL and RESTful APIs',\n",
       " 'Cloud infrastructure development using public cloud providers (e.g., AWS, Azure, GCP)',\n",
       " 'Infrastructure-as-code technologies (e.g., Terraform, CloudFormation, CircleCI)',\n",
       " 'Continuous integration & deployment (CI/CD), source control (e.g. GitHub), and build automation (e.g. Jenkins, GitHub Actions)',\n",
       " 'Agile principles and Sprint Planning, including planning/backlog tools (e.g., JIRA)']"
      ]
     },
     "execution_count": 11,
     "metadata": {},
     "output_type": "execute_result"
    }
   ],
   "source": [
    "job = json_res\n",
    "job['skills']"
   ]
  },
  {
   "cell_type": "code",
   "execution_count": 12,
   "id": "e42fe755-7cc7-4249-806c-baf11d0b42b7",
   "metadata": {},
   "outputs": [
    {
     "data": {
      "text/plain": [
       "[[{'links': 'https://github.com/qusaii21/Ganga-Prabodhanam-App'},\n",
       "  {'links': 'https://github.com/qusaii21/RouteMate-Optimized-Employee-Transportation-Routing'}],\n",
       " [{'links': 'https://github.com/qusaii21/Quick-Sewa-On-Demand-House-help-Service-App'},\n",
       "  {'links': 'https://github.com/qusaii21/Ganga-Prabodhanam-App'}],\n",
       " [{'links': 'https://github.com/qusaii21/minimum-cost-of-ticket'},\n",
       "  {'links': 'https://github.com/qusaii21/ANPR-System-for-Apartments'}],\n",
       " [{'links': 'https://github.com/qusaii21/minimum-cost-of-ticket'},\n",
       "  {'links': 'https://github.com/qusaii21/Quick-Sewa-On-Demand-House-help-Service-App'}],\n",
       " [{'links': 'https://github.com/qusaii21/Quick-Sewa-On-Demand-House-help-Service-App'},\n",
       "  {'links': 'https://github.com/qusaii21/minimum-cost-of-ticket'}],\n",
       " [{'links': 'https://github.com/qusaii21/ANPR-System-for-Apartments'},\n",
       "  {'links': 'https://github.com/qusaii21/Quick-Sewa-On-Demand-House-help-Service-App'}],\n",
       " [{'links': 'https://github.com/qusaii21/ANPR-System-for-Apartments'},\n",
       "  {'links': 'https://github.com/qusaii21/minimum-cost-of-ticket'}],\n",
       " [{'links': 'https://github.com/qusaii21/Quick-Sewa-On-Demand-House-help-Service-App'},\n",
       "  {'links': 'https://github.com/qusaii21/ANPR-System-for-Apartments'}],\n",
       " [{'links': 'https://github.com/qusaii21/minimum-cost-of-ticket'},\n",
       "  {'links': 'https://github.com/qusaii21/ANPR-System-for-Apartments'}]]"
      ]
     },
     "execution_count": 12,
     "metadata": {},
     "output_type": "execute_result"
    }
   ],
   "source": [
    "links = collection.query(query_texts=job['skills'], n_results=2).get('metadatas', [])\n",
    "links\n"
   ]
  },
  {
   "cell_type": "code",
   "execution_count": 14,
   "id": "2c68e198-16f3-4e17-be2a-0ef8570ffcc5",
   "metadata": {},
   "outputs": [
    {
     "name": "stdout",
     "output_type": "stream",
     "text": [
      "Subject: Application for Senior Software Engineer Position - Cloud Reporting Solution\n",
      "\n",
      "Dear Hiring Manager,\n",
      "\n",
      "I am excited to apply for the Senior Software Engineer position at your esteemed organization, where I can leverage my technical expertise to deliver and maintain product features for your internal cloud reporting solution. As a third-year student at Vishwakarma Institute of Technology (VIT) Pune, pursuing a Bachelor of Technology (B.Tech) in Artificial Intelligence and Data Science, I am confident that my skills and experience make me an ideal fit for this role.\n",
      "\n",
      "As the Project Head at IEEE SB VIT Pune, I have led various technical initiatives and developed innovative solutions, honing my skills in object-oriented programming languages, including Python. My experience with JavaScript front-end web frameworks, such as React, has enabled me to create efficient and scalable UI interfaces. I am well-versed in data structures and algorithms, ensuring efficient management of large data sets.\n",
      "\n",
      "My proficiency in serverless data warehouses (e.g., Athena) and NoSQL databases (e.g., DynamoDB) has allowed me to design and implement scalable data storage solutions. I am familiar with GraphQL and RESTful APIs, having worked on projects that involve API integration and development. Additionally, I have experience with cloud infrastructure development using public cloud providers (e.g., AWS, Azure, GCP) and infrastructure-as-code technologies (e.g., Terraform, CloudFormation).\n",
      "\n",
      "Some of my notable projects include:\n",
      "\n",
      "* Ganga Prabodhanam App (https://github.com/qusaii21/Ganga-Prabodhanam-App): A mobile application that utilizes machine learning algorithms to detect and classify water quality parameters.\n",
      "* RouteMate - Optimized Employee Transportation Routing (https://github.com/qusaii21/RouteMate-Optimized-Employee-Transportation-Routing): A web application that leverages graph algorithms to optimize employee transportation routes.\n",
      "* Quick Sewa - On-Demand House Help Service App (https://github.com/qusaii21/Quick-Sewa-On-Demand-House-help-Service-App): A mobile application that utilizes real-time APIs to connect customers with house help services.\n",
      "\n",
      "I am confident that my technical expertise, combined with my experience in leading technical initiatives, makes me a strong candidate for this position. I am excited about the opportunity to contribute to your team and deliver high-quality solutions.\n",
      "\n",
      "Thank you for considering my application. I look forward to discussing my qualifications further.\n",
      "\n",
      "Best regards,\n",
      "\n",
      "Qusai Shergardwala\n"
     ]
    }
   ],
   "source": [
    "prompt_email = PromptTemplate.from_template(\n",
    "        \"\"\"\n",
    "        ### JOB DESCRIPTION:\n",
    "        {job_description}\n",
    "        \n",
    "        ### INSTRUCTION:\n",
    "        You are Qusai Shergardwala, a third-year student at Vishwakarma Institute of Technology (VIT) Pune, pursuing a Bachelor of Technology (B.Tech) in Artificial Intelligence and Data Science.  \n",
    "You are currently the Project Head at IEEE SB VIT Pune and have experience in leading technical initiatives and developing innovative solutions.\n",
    "\n",
    "Your task is to craft a professional and compelling cold email to the client regarding the job described above. Highlight your qualifications, skills, and projects relevant to the role, demonstrating your ability to meet their requirements effectively.  \n",
    "Incorporate the most relevant items from the following links to showcase your portfolio: {link_list}.  \n",
    "The email should be concise, impactful, and free of any preamble.\n",
    "        ### EMAIL (NO PREAMBLE):\n",
    "        \n",
    "        \"\"\"\n",
    "        )\n",
    "\n",
    "chain_email = prompt_email | llm\n",
    "res = chain_email.invoke({\"job_description\": str(job), \"link_list\": links})\n",
    "print(res.content)"
   ]
  },
  {
   "cell_type": "code",
   "execution_count": null,
   "id": "af655a2e-dcd7-42be-a6c8-3d06b7a346db",
   "metadata": {},
   "outputs": [],
   "source": []
  }
 ],
 "metadata": {
  "kernelspec": {
   "display_name": "Python 3 (ipykernel)",
   "language": "python",
   "name": "python3"
  },
  "language_info": {
   "codemirror_mode": {
    "name": "ipython",
    "version": 3
   },
   "file_extension": ".py",
   "mimetype": "text/x-python",
   "name": "python",
   "nbconvert_exporter": "python",
   "pygments_lexer": "ipython3",
   "version": "3.13.0"
  }
 },
 "nbformat": 4,
 "nbformat_minor": 5
}
